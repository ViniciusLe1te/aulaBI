{
  "nbformat": 4,
  "nbformat_minor": 0,
  "metadata": {
    "colab": {
      "provenance": [],
      "authorship_tag": "ABX9TyM0mhXNi2yvH/FPLsc9ytS/",
      "include_colab_link": true
    },
    "kernelspec": {
      "name": "python3",
      "display_name": "Python 3"
    },
    "language_info": {
      "name": "python"
    }
  },
  "cells": [
    {
      "cell_type": "markdown",
      "metadata": {
        "id": "view-in-github",
        "colab_type": "text"
      },
      "source": [
        "<a href=\"https://colab.research.google.com/github/ViniciusLe1te/aulaBI-ETL/blob/main/ETL_Phyton.ipynb\" target=\"_parent\"><img src=\"https://colab.research.google.com/assets/colab-badge.svg\" alt=\"Open In Colab\"/></a>"
      ]
    },
    {
      "cell_type": "code",
      "execution_count": null,
      "metadata": {
        "colab": {
          "base_uri": "https://localhost:8080/"
        },
        "id": "jAZGZLNLIWAL",
        "outputId": "42e2f07a-6ee5-45bd-f8c1-5be5eab4bee0"
      },
      "outputs": [
        {
          "output_type": "stream",
          "name": "stdout",
          "text": [
            "Dados da filial 1 :\n",
            "   ID do Produto                   Nome do Produto  Quantidade Vendida  \\\n",
            "0            101                Laptop Dell XPS 13                  20   \n",
            "1            102     Smartphone Samsung Galaxy S20                  30   \n",
            "2            103          Monitor LG UltraWide 34\"                  15   \n",
            "3            104  Teclado Mecânico Corsair K95 RGB                  25   \n",
            "4            105        Mouse Logitech MX Master 3                  10   \n",
            "\n",
            "   Preço Unitário  \n",
            "0          1500.0  \n",
            "1          1000.0  \n",
            "2           600.0  \n",
            "3           200.0  \n",
            "4            80.0  \n",
            "Dados da filial 2 :\n",
            "   ID do Produto                    Nome do Produto  Quantidade Vendida  \\\n",
            "0            201         Impressora HP LaserJet Pro                  12   \n",
            "1            202                    SSD Samsung 1TB                  18   \n",
            "2            203              Tablet Apple iPad Pro                   8   \n",
            "3            204  Smartwatch Samsung Galaxy Watch 4                  14   \n",
            "4            205            Headset HyperX Cloud II                  20   \n",
            "\n",
            "   Preço Unitário  \n",
            "0           250.0  \n",
            "1           180.0  \n",
            "2           900.0  \n",
            "3           300.0  \n",
            "4           120.0  \n",
            "\n",
            "\n",
            "\n",
            "Dados Transformados da filial 1:\n",
            "   ID do Produto                   Nome do Produto  Quantidade Vendida  \\\n",
            "0            101                Laptop Dell XPS 13                  20   \n",
            "1            102     Smartphone Samsung Galaxy S20                  30   \n",
            "2            103          Monitor LG UltraWide 34\"                  15   \n",
            "3            104  Teclado Mecânico Corsair K95 RGB                  25   \n",
            "4            105        Mouse Logitech MX Master 3                  10   \n",
            "\n",
            "   Preço Unitário  Valor total  \n",
            "0          1500.0      30000.0  \n",
            "1          1000.0      30000.0  \n",
            "2           600.0       9000.0  \n",
            "3           200.0       5000.0  \n",
            "4            80.0        800.0  \n",
            "\n",
            "Dados Transformados da filial 2:\n",
            "   ID do Produto                    Nome do Produto  Quantidade Vendida  \\\n",
            "0            201         Impressora HP LaserJet Pro                  12   \n",
            "1            202                    SSD Samsung 1TB                  18   \n",
            "2            203              Tablet Apple iPad Pro                   8   \n",
            "3            204  Smartwatch Samsung Galaxy Watch 4                  14   \n",
            "4            205            Headset HyperX Cloud II                  20   \n",
            "\n",
            "   Preço Unitário  Valor total  \n",
            "0           250.0       3000.0  \n",
            "1           180.0       3240.0  \n",
            "2           900.0       7200.0  \n",
            "3           300.0       4200.0  \n",
            "4           120.0       2400.0  \n",
            "\n",
            "\n",
            "\n",
            "Dados Transformados da Filial 1 (do arquivo CSV):\n",
            "   ID do Produto                   Nome do Produto  Quantidade Vendida  \\\n",
            "0            101                Laptop Dell XPS 13                  20   \n",
            "1            102     Smartphone Samsung Galaxy S20                  30   \n",
            "2            103          Monitor LG UltraWide 34\"                  15   \n",
            "3            104  Teclado Mecânico Corsair K95 RGB                  25   \n",
            "4            105        Mouse Logitech MX Master 3                  10   \n",
            "\n",
            "   Preço Unitário  Valor total  \n",
            "0          1500.0      30000.0  \n",
            "1          1000.0      30000.0  \n",
            "2           600.0       9000.0  \n",
            "3           200.0       5000.0  \n",
            "4            80.0        800.0  \n",
            "\n",
            "Dados Transformados da Filial 2 (do arquivo CSV):\n",
            "   ID do Produto                    Nome do Produto  Quantidade Vendida  \\\n",
            "0            201         Impressora HP LaserJet Pro                  12   \n",
            "1            202                    SSD Samsung 1TB                  18   \n",
            "2            203              Tablet Apple iPad Pro                   8   \n",
            "3            204  Smartwatch Samsung Galaxy Watch 4                  14   \n",
            "4            205            Headset HyperX Cloud II                  20   \n",
            "\n",
            "   Preço Unitário  Valor total  \n",
            "0           250.0       3000.0  \n",
            "1           180.0       3240.0  \n",
            "2           900.0       7200.0  \n",
            "3           300.0       4200.0  \n",
            "4           120.0       2400.0  \n"
          ]
        }
      ],
      "source": [
        "import pandas as pd\n",
        "\n",
        "#extração\n",
        "vendas_filial1 = pd.read_csv('vendas_filial1.csv')\n",
        "vendas_filial2 = pd.read_excel('vendas_filial2.xlsx')\n",
        "\n",
        "print(\"Dados da filial 1 :\")\n",
        "print(vendas_filial1.head())\n",
        "print('Dados da filial 2 :')\n",
        "print(vendas_filial2.head())\n",
        "\n",
        "#transformação\n",
        "vendas_filial1['Valor total'] = vendas_filial1['Quantidade Vendida'] * vendas_filial1['Preço Unitário']\n",
        "vendas_filial2['Valor total'] = vendas_filial2['Quantidade Vendida'] * vendas_filial2['Preço Unitário']\n",
        "\n",
        "print(\"\\n\\n\\nDados Transformados da filial 1:\")\n",
        "print(vendas_filial1.head())\n",
        "print(\"\\nDados Transformados da filial 2:\")\n",
        "print(vendas_filial2.head())\n",
        "\n",
        "vendas_filial1.to_csv('vendas_filial1_transformadas.csv', index = False)\n",
        "vendas_filial2.to_csv('vendas_filial2_transformadas.csv', index = False)\n",
        "\n",
        "dados_filial1 = pd.read_csv('vendas_filial1_transformadas.csv')\n",
        "dados_filial2 = pd.read_csv('vendas_filial2_transformadas.csv')\n",
        "\n",
        "print(\"\\n\\n\\nDados Transformados da Filial 1 (do arquivo CSV):\")\n",
        "print(dados_filial1.head())\n",
        "print(\"\\nDados Transformados da Filial 2 (do arquivo CSV):\")\n",
        "print(dados_filial2.head())\n"
      ]
    },
    {
      "cell_type": "code",
      "source": [
        "#Carregamento no Banco\n",
        "\n",
        "import sqlite3\n",
        "\n",
        "conn = sqlite3.connect('dados_transformados.db')\n",
        "\n",
        "vendas_filial1.to_sql('vendas_filial1_transformadas', conn, index=False, if_exists='replace')\n",
        "vendas_filial2.to_sql('vendas_filial2_transformadas', conn, index=False, if_exists='replace')\n",
        "\n",
        "dados_filial1 = pd.read_sql('SELECT * FROM vendas_filial1_transformadas', conn)\n",
        "dados_filial2 = pd.read_sql('SELECT * FROM vendas_filial2_transformadas', conn)\n",
        "\n",
        "print(\"\\n\\n\\nDados Transformados da Filial 1 (do banco de dados SQL):\")\n",
        "print(dados_filial1.head())\n",
        "print(\"\\nDados Transformados da Filial 2 (do banco de dados SQL):\")\n",
        "print(dados_filial2.head())\n",
        "\n",
        "conn.close()"
      ],
      "metadata": {
        "colab": {
          "base_uri": "https://localhost:8080/"
        },
        "id": "LS3AmrYD1MG4",
        "outputId": "1ac7396f-ed66-49f9-b823-5cc9d5f73c74"
      },
      "execution_count": null,
      "outputs": [
        {
          "output_type": "stream",
          "name": "stdout",
          "text": [
            "\n",
            "\n",
            "\n",
            "Dados Transformados da Filial 1 (do banco de dados SQL):\n",
            "   ID do Produto                   Nome do Produto  Quantidade Vendida  \\\n",
            "0            101                Laptop Dell XPS 13                  20   \n",
            "1            102     Smartphone Samsung Galaxy S20                  30   \n",
            "2            103          Monitor LG UltraWide 34\"                  15   \n",
            "3            104  Teclado Mecânico Corsair K95 RGB                  25   \n",
            "4            105        Mouse Logitech MX Master 3                  10   \n",
            "\n",
            "   Preço Unitário  Valor total  \n",
            "0          1500.0      30000.0  \n",
            "1          1000.0      30000.0  \n",
            "2           600.0       9000.0  \n",
            "3           200.0       5000.0  \n",
            "4            80.0        800.0  \n",
            "\n",
            "Dados Transformados da Filial 2 (do banco de dados SQL):\n",
            "   ID do Produto                    Nome do Produto  Quantidade Vendida  \\\n",
            "0            201         Impressora HP LaserJet Pro                  12   \n",
            "1            202                    SSD Samsung 1TB                  18   \n",
            "2            203              Tablet Apple iPad Pro                   8   \n",
            "3            204  Smartwatch Samsung Galaxy Watch 4                  14   \n",
            "4            205            Headset HyperX Cloud II                  20   \n",
            "\n",
            "   Preço Unitário  Valor total  \n",
            "0           250.0       3000.0  \n",
            "1           180.0       3240.0  \n",
            "2           900.0       7200.0  \n",
            "3           300.0       4200.0  \n",
            "4           120.0       2400.0  \n"
          ]
        }
      ]
    },
    {
      "cell_type": "code",
      "source": [
        "#Verificação do arquivo dados_transformados.db\n",
        "\n",
        "import sqlite3\n",
        "\n",
        "conn = sqlite3.connect('dados_transformados.db')\n",
        "\n",
        "cursor = conn.cursor()\n",
        "\n",
        "cursor.execute('SELECT * FROM vendas_filial1_transformadas')\n",
        "\n",
        "dados_filial1 = cursor.fetchall()\n",
        "\n",
        "print(\"Dados transformados da Filial 1:\")\n",
        "for linha in dados_filial1:\n",
        "    print(linha)\n",
        "\n",
        "cursor.execute('SELECT * FROM vendas_filial2_transformadas')\n",
        "\n",
        "dados_filial2 = cursor.fetchall()\n",
        "\n",
        "print(\"Dados transformados da Filial 2:\")\n",
        "for linha in dados_filial2:\n",
        "    print(linha)\n",
        "\n",
        "cursor.close()\n",
        "conn.close()"
      ],
      "metadata": {
        "colab": {
          "base_uri": "https://localhost:8080/"
        },
        "id": "xtc1LlHP2-LA",
        "outputId": "44bbd371-a62e-45c7-feec-c0703dc64e05"
      },
      "execution_count": null,
      "outputs": [
        {
          "output_type": "stream",
          "name": "stdout",
          "text": [
            "Dados transformados da Filial 1:\n",
            "(101, 'Laptop Dell XPS 13', 20, 1500.0, 30000.0)\n",
            "(102, 'Smartphone Samsung Galaxy S20', 30, 1000.0, 30000.0)\n",
            "(103, 'Monitor LG UltraWide 34\"', 15, 600.0, 9000.0)\n",
            "(104, 'Teclado Mecânico Corsair K95 RGB', 25, 200.0, 5000.0)\n",
            "(105, 'Mouse Logitech MX Master 3', 10, 80.0, 800.0)\n",
            "Dados transformados da Filial 2:\n",
            "(201, 'Impressora HP LaserJet Pro', 12, 250.0, 3000.0)\n",
            "(202, 'SSD Samsung 1TB', 18, 180.0, 3240.0)\n",
            "(203, 'Tablet Apple iPad Pro', 8, 900.0, 7200.0)\n",
            "(204, 'Smartwatch Samsung Galaxy Watch 4', 14, 300.0, 4200.0)\n",
            "(205, 'Headset HyperX Cloud II', 20, 120.0, 2400.0)\n"
          ]
        }
      ]
    }
  ]
}